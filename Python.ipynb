{
  "nbformat": 4,
  "nbformat_minor": 0,
  "metadata": {
    "colab": {
      "name": "Python.ipynb",
      "provenance": [],
      "collapsed_sections": [],
      "toc_visible": true,
      "authorship_tag": "ABX9TyOAKb4rV7d1nKAdztp1RZJ0",
      "include_colab_link": true
    },
    "kernelspec": {
      "name": "python3",
      "display_name": "Python 3"
    },
    "language_info": {
      "name": "python"
    }
  },
  "cells": [
    {
      "cell_type": "markdown",
      "metadata": {
        "id": "view-in-github",
        "colab_type": "text"
      },
      "source": [
        "<a href=\"https://colab.research.google.com/github/pawansingh7/Basic_python/blob/main/Python.ipynb\" target=\"_parent\"><img src=\"https://colab.research.google.com/assets/colab-badge.svg\" alt=\"Open In Colab\"/></a>"
      ]
    },
    {
      "cell_type": "code",
      "execution_count": null,
      "metadata": {
        "colab": {
          "base_uri": "https://localhost:8080/"
        },
        "id": "d7LQDrxnDH1S",
        "outputId": "869a808c-719f-4ff7-cfd8-9c52ca026b5d"
      },
      "outputs": [
        {
          "output_type": "stream",
          "name": "stdout",
          "text": [
            "Enter the number 10\n",
            "Number is even\n",
            "<class 'int'>\n"
          ]
        }
      ],
      "source": [
        "num = int(input(\"Enter the number \"))\n",
        "if num % 2 == 0 :\n",
        "  print(\"Number is even\")\n",
        "else : \n",
        "  print(\"Number is odd\")"
      ]
    },
    {
      "cell_type": "code",
      "source": [
        "num = int(input(\"Enter the number \"))\n",
        "print(\"Even\") if num%2==0 else print(\"odd\")"
      ],
      "metadata": {
        "colab": {
          "base_uri": "https://localhost:8080/"
        },
        "id": "itDdLYFDH30e",
        "outputId": "bd135ebb-4d59-4d0f-c2c1-6a6063b7b3db"
      },
      "execution_count": null,
      "outputs": [
        {
          "output_type": "stream",
          "name": "stdout",
          "text": [
            "Enter the number 16\n",
            "Even\n"
          ]
        }
      ]
    },
    {
      "cell_type": "code",
      "source": [
        "def isEven(num):\n",
        "  return not num&1\n",
        "\n",
        "if __name__ == \"__main__\":\n",
        "  num = 12\n",
        "  print(isEven(num))\n",
        "  if isEven(num):\n",
        "    print('Even')\n",
        "  else:\n",
        "    print('Odd')"
      ],
      "metadata": {
        "colab": {
          "base_uri": "https://localhost:8080/"
        },
        "id": "xP3C67RuJb8c",
        "outputId": "2ae612d9-9d44-490a-8573-2adc5eda3202"
      },
      "execution_count": null,
      "outputs": [
        {
          "output_type": "stream",
          "name": "stdout",
          "text": [
            "True\n",
            "Even\n"
          ]
        }
      ]
    },
    {
      "cell_type": "markdown",
      "source": [
        "Find the Sum of the First N Natural Numbers"
      ],
      "metadata": {
        "id": "quT6YbLHL_e7"
      }
    },
    {
      "cell_type": "code",
      "source": [
        "n = int(input(\"Enter the number of natural number \"))\n",
        "i = 1\n",
        "sum = 0\n",
        "while i < n+1:\n",
        "  print(i)\n",
        "  sum = sum + i\n",
        "  i += 1\n",
        "print(sum)\n"
      ],
      "metadata": {
        "colab": {
          "base_uri": "https://localhost:8080/"
        },
        "id": "QAVowRsgN2nu",
        "outputId": "fb5bd2fa-5298-4da3-805d-d647f7d52cf8"
      },
      "execution_count": null,
      "outputs": [
        {
          "output_type": "stream",
          "name": "stdout",
          "text": [
            "Enter the number of natural number6\n",
            "1\n",
            "2\n",
            "3\n",
            "4\n",
            "5\n",
            "6\n",
            "21\n"
          ]
        }
      ]
    },
    {
      "cell_type": "code",
      "source": [],
      "metadata": {
        "id": "JJKpFzz1Lwnd"
      },
      "execution_count": null,
      "outputs": []
    },
    {
      "cell_type": "code",
      "source": [],
      "metadata": {
        "id": "Vl5yGPelDRu4"
      },
      "execution_count": null,
      "outputs": []
    },
    {
      "cell_type": "code",
      "source": [
        "num = 5\n",
        "sum = 0\n",
        "for i in range(num+1):\n",
        "  sum+=i\n",
        "print(sum)"
      ],
      "metadata": {
        "colab": {
          "base_uri": "https://localhost:8080/"
        },
        "id": "DlVTDIxISgYA",
        "outputId": "18c25d92-23fd-4911-d100-6467bac746e5"
      },
      "execution_count": null,
      "outputs": [
        {
          "output_type": "stream",
          "name": "stdout",
          "text": [
            "15\n"
          ]
        }
      ]
    },
    {
      "cell_type": "code",
      "source": [
        "#using formula \n",
        "n = int(input(\"enter the no. of naturtal number \"))\n",
        "sum = n*(n+1)/2\n",
        "print(int(sum))"
      ],
      "metadata": {
        "colab": {
          "base_uri": "https://localhost:8080/"
        },
        "id": "q0h6JpXOQ2Hs",
        "outputId": "2259e03e-3bfe-4ae4-ae9d-087e895e683c"
      },
      "execution_count": null,
      "outputs": [
        {
          "output_type": "stream",
          "name": "stdout",
          "text": [
            "enter the no. of naturtal number 6\n",
            "21\n"
          ]
        }
      ]
    },
    {
      "cell_type": "code",
      "source": [
        "# using Recursion\n",
        "def getsum(num):\n",
        "  if num ==1 :\n",
        "    return 1\n",
        "  return num + getsum(num-1)\n",
        "\n",
        "num = 5\n",
        "print(getsum(num)) \n"
      ],
      "metadata": {
        "colab": {
          "base_uri": "https://localhost:8080/"
        },
        "id": "5_3i9VF4RgeL",
        "outputId": "d2021072-7200-42a0-d22c-f39249f57f6e"
      },
      "execution_count": null,
      "outputs": [
        {
          "output_type": "stream",
          "name": "stdout",
          "text": [
            "15\n"
          ]
        }
      ]
    },
    {
      "cell_type": "markdown",
      "source": [
        "Sum of n natural number"
      ],
      "metadata": {
        "id": "j_RgiR_pSeLR"
      }
    },
    {
      "cell_type": "code",
      "source": [
        "n1,n2 = 3,6\n",
        "sum = 0\n",
        "for i in range(n1,n2+1):\n",
        "  sum+= i\n",
        "print(sum)"
      ],
      "metadata": {
        "colab": {
          "base_uri": "https://localhost:8080/"
        },
        "id": "MxbLr6xcXKf0",
        "outputId": "4b45a887-0972-44a1-f789-30b9cd0d00d2"
      },
      "execution_count": null,
      "outputs": [
        {
          "output_type": "stream",
          "name": "stdout",
          "text": [
            "18\n"
          ]
        }
      ]
    },
    {
      "cell_type": "code",
      "source": [
        "def recursum(sum,num1,num2):\n",
        "  if num1 > num2:\n",
        "    return sum\n",
        "  return num1 + recursum(sum,num1+1,num2)\n",
        "\n",
        "num1, num2 = 3, 6\n",
        "sum = 0\n",
        "print(recursum(sum,num1,num2))"
      ],
      "metadata": {
        "id": "hyCMIS-iY0ja",
        "colab": {
          "base_uri": "https://localhost:8080/"
        },
        "outputId": "cf304507-7fc0-478d-9087-951c3a9881d0"
      },
      "execution_count": null,
      "outputs": [
        {
          "output_type": "stream",
          "name": "stdout",
          "text": [
            "18\n"
          ]
        }
      ]
    },
    {
      "cell_type": "markdown",
      "source": [
        "Find the Greatest of the Two Numbers in Python Language"
      ],
      "metadata": {
        "id": "Yw4EYbwEDTVe"
      }
    },
    {
      "cell_type": "code",
      "source": [
        "x = int(input(\"Enter the first number \"))\n",
        "y = int(input(\"Enter the first number \"))\n",
        "if x>y :\n",
        "  print(\"first number is greater\")\n",
        "else :\n",
        "  print(\"second number is greater\")"
      ],
      "metadata": {
        "colab": {
          "base_uri": "https://localhost:8080/"
        },
        "id": "Ix3uOvKSDiS_",
        "outputId": "e7e5d43c-6e93-4c59-8cf4-105c5b707966"
      },
      "execution_count": null,
      "outputs": [
        {
          "output_type": "stream",
          "name": "stdout",
          "text": [
            "Enter the first number 12\n",
            "Enter the first number 16\n",
            "second number is greater\n"
          ]
        }
      ]
    },
    {
      "cell_type": "code",
      "source": [
        "# using ternary operator\n",
        "x = int(input(\"Enter the first number \"))\n",
        "y = int(input(\"Enter the first number \"))\n",
        "print((\"first number is greater\" if x>y else \"second number is greater\"))\n"
      ],
      "metadata": {
        "colab": {
          "base_uri": "https://localhost:8080/"
        },
        "id": "EuEjUcnyFNO5",
        "outputId": "e2da82f0-668e-44a4-ab3d-f4fd5957ccfb"
      },
      "execution_count": null,
      "outputs": [
        {
          "output_type": "stream",
          "name": "stdout",
          "text": [
            "Enter the first number 20\n",
            "Enter the first number 31\n",
            "second number is greater\n"
          ]
        }
      ]
    },
    {
      "cell_type": "code",
      "source": [
        "# using inbuilt max() function\n",
        "x = int(input(\"Enter the first number \"))\n",
        "y = int(input(\"Enter the first number \"))\n",
        "print(max(x,y))\n",
        "\n"
      ],
      "metadata": {
        "colab": {
          "base_uri": "https://localhost:8080/"
        },
        "id": "3d2_MEpILdCQ",
        "outputId": "3c42552f-9555-479e-b217-5075f298a1f2"
      },
      "execution_count": null,
      "outputs": [
        {
          "output_type": "stream",
          "name": "stdout",
          "text": [
            "Enter the first number 21\n",
            "Enter the first number 12\n",
            "21\n"
          ]
        }
      ]
    },
    {
      "cell_type": "markdown",
      "source": [
        "Find the Greatest of the three Numbers in Python Language"
      ],
      "metadata": {
        "id": "xSGif1KSMN_g"
      }
    },
    {
      "cell_type": "code",
      "source": [
        "x = int(input(\"Enter the first number \"))\n",
        "y = int(input(\"Enter the second number \"))\n",
        "z = int(input(\"Enter the third number \"))\n",
        "if x>y & x>z :\n",
        "  print(\"first number is greater\")\n",
        "elif x<y & y>z:\n",
        "  print(\"second number is greater\")\n",
        "else :\n",
        "  print(\"third number is greater\")"
      ],
      "metadata": {
        "colab": {
          "base_uri": "https://localhost:8080/"
        },
        "id": "aUF7FdVfNe_R",
        "outputId": "0e180316-80da-4e12-8345-35cd6623a5dd"
      },
      "execution_count": null,
      "outputs": [
        {
          "output_type": "stream",
          "name": "stdout",
          "text": [
            "Enter the first number 12\n",
            "Enter the second number 5\n",
            "Enter the third number 40\n",
            "third number is greater\n"
          ]
        }
      ]
    },
    {
      "cell_type": "markdown",
      "source": [
        "Check Whether a Year is a Leap Year or Not in Python"
      ],
      "metadata": {
        "id": "G61U7YAiPI7i"
      }
    },
    {
      "cell_type": "code",
      "source": [
        "# Using if-else statements 1\n",
        "year = int (input(\"enter the year that you want to check \"))\n",
        "if (year%400 == 0) or (year%4==0 and year%100!=0):\n",
        "  print(\"Leap Year\")\n",
        "else:\n",
        "  print(\"Not a Leap Year\")\n"
      ],
      "metadata": {
        "colab": {
          "base_uri": "https://localhost:8080/"
        },
        "id": "2rl6LjagNtkJ",
        "outputId": "7eb1cc70-d73a-4b7a-cf15-98734a8135f2"
      },
      "execution_count": null,
      "outputs": [
        {
          "output_type": "stream",
          "name": "stdout",
          "text": [
            "enter the year that you want to check 2012\n",
            "Leap Year\n"
          ]
        }
      ]
    },
    {
      "cell_type": "markdown",
      "source": [
        "Check Whether a Number is a Prime or Not in Python"
      ],
      "metadata": {
        "id": "1z092lgm4kUX"
      }
    },
    {
      "cell_type": "code",
      "source": [
        "n = int(input(\"Enter the number that can be check \"))\n",
        "a = int(n**(1/2))\n",
        "for i in range (2,a+1) :\n",
        "  if n%i == 0:\n",
        "    print(\"Number is not prime\")\n",
        "    break\n",
        "else :\n",
        "  print(\"Number is prime\")\n",
        "  "
      ],
      "metadata": {
        "colab": {
          "base_uri": "https://localhost:8080/"
        },
        "id": "RuiYg5Yu49Ko",
        "outputId": "6e8936b2-342a-4646-fb94-87a8fb5767c3"
      },
      "execution_count": null,
      "outputs": [
        {
          "output_type": "stream",
          "name": "stdout",
          "text": [
            "Enter the number that can be check 93\n",
            "Number is not prime\n"
          ]
        }
      ]
    },
    {
      "cell_type": "code",
      "source": [
        "A=(0,1,2,3)\n",
        "\n",
        "\n",
        "A[-1]\n",
        "\n"
      ],
      "metadata": {
        "id": "kYPbQ99X7wb3",
        "colab": {
          "base_uri": "https://localhost:8080/"
        },
        "outputId": "e8ce967b-9218-4de1-e87f-967820bfc74d"
      },
      "execution_count": null,
      "outputs": [
        {
          "output_type": "execute_result",
          "data": {
            "text/plain": [
              "3"
            ]
          },
          "metadata": {},
          "execution_count": 3
        }
      ]
    },
    {
      "cell_type": "markdown",
      "source": [
        "Find the Prime Numbers in a Given Interval in Python"
      ],
      "metadata": {
        "id": "ZBrOeU2ro4yF"
      }
    },
    {
      "cell_type": "code",
      "source": [
        "n = int(input(\"enter the number \"))\n",
        "primes = []\n",
        "for i in range(2,n+1):\n",
        "  if i < 2:\n",
        "        continue\n",
        "  if i == 2:\n",
        "        primes.append(2)\n",
        "        continue\n",
        "  for j in range(2,i):\n",
        "    a = i % j \n",
        "    if a == 0 :\n",
        "      break\n",
        "    else :\n",
        "      continue\n",
        "  if a != 0 :\n",
        "    primes.append(i) \n",
        "\n",
        "print(primes)\n"
      ],
      "metadata": {
        "colab": {
          "base_uri": "https://localhost:8080/"
        },
        "id": "lDdT5A5no1rR",
        "outputId": "304824c1-354c-4fc0-a906-1806e8ce7da6"
      },
      "execution_count": null,
      "outputs": [
        {
          "output_type": "stream",
          "name": "stdout",
          "text": [
            "enter the number 33\n",
            "[2, 3, 5, 7, 11, 13, 17, 19, 23, 29, 31]\n"
          ]
        }
      ]
    },
    {
      "cell_type": "code",
      "source": [
        "low, high = 2, 10\n",
        "primes = [2, 3]\n",
        "\n",
        "for num in range(low, high + 1):\n",
        "    flag = 0\n",
        "    \n",
        "    if num < 2:\n",
        "        flag = 1\n",
        "        \n",
        "    if num % 2 == 0:\n",
        "        continue\n",
        "        \n",
        "    if num % 3 == 0:\n",
        "        continue\n",
        "        \n",
        "    iter = 2\n",
        "    while iter < int(pow(num, 0.5)):\n",
        "        if num % iter == 0:\n",
        "            flag = 1\n",
        "            break\n",
        "        iter += 1\n",
        "        \n",
        "    if flag == 0:\n",
        "        primes.append(num)\n",
        "\n",
        "print(primes)"
      ],
      "metadata": {
        "colab": {
          "base_uri": "https://localhost:8080/"
        },
        "id": "rnaOkV-js5wp",
        "outputId": "c9cf19c1-726d-4b95-c875-3066eb95062a"
      },
      "execution_count": null,
      "outputs": [
        {
          "output_type": "stream",
          "name": "stdout",
          "text": [
            "[2, 3, 5, 7]\n"
          ]
        }
      ]
    },
    {
      "cell_type": "markdown",
      "source": [
        "Find the sum of the Digits of a Number\n"
      ],
      "metadata": {
        "id": "oOCDqioAVVmq"
      }
    },
    {
      "cell_type": "code",
      "source": [
        "num = input(\"Enter Number: \")\n",
        "sum = 0\n",
        "\n",
        "for i in num:\n",
        "    print(i)\n",
        "    sum = sum + int(i)\n",
        "\n",
        "print(sum)\n"
      ],
      "metadata": {
        "colab": {
          "base_uri": "https://localhost:8080/"
        },
        "id": "-wgkGbWAVq1Y",
        "outputId": "12501b4f-e878-4845-a846-520147f76356"
      },
      "execution_count": null,
      "outputs": [
        {
          "output_type": "stream",
          "name": "stdout",
          "text": [
            "Enter Number: 12121452\n",
            "1\n",
            "2\n",
            "1\n",
            "2\n",
            "1\n",
            "4\n",
            "5\n",
            "2\n",
            "18\n"
          ]
        }
      ]
    },
    {
      "cell_type": "code",
      "source": [
        "import pandas as pd\n",
        "df = pd.read_csv('data.csv')\n",
        "print(df)"
      ],
      "metadata": {
        "id": "8Z9gPy68NRSA",
        "colab": {
          "base_uri": "https://localhost:8080/"
        },
        "outputId": "71f2981c-28ab-4363-8dad-e73df678e2b1"
      },
      "execution_count": null,
      "outputs": [
        {
          "output_type": "stream",
          "name": "stdout",
          "text": [
            "     Duration  Pulse  Maxpulse  Calories\n",
            "0          60    110       130     409.1\n",
            "1          60    117       145     479.0\n",
            "2          60    103       135     340.0\n",
            "3          45    109       175     282.4\n",
            "4          45    117       148     406.0\n",
            "..        ...    ...       ...       ...\n",
            "164        60    105       140     290.8\n",
            "165        60    110       145     300.0\n",
            "166        60    115       145     310.2\n",
            "167        75    120       150     320.4\n",
            "168        75    125       150     330.4\n",
            "\n",
            "[169 rows x 4 columns]\n"
          ]
        }
      ]
    }
  ]
}